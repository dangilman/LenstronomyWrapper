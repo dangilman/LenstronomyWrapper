{
 "cells": [
  {
   "cell_type": "markdown",
   "metadata": {},
   "source": [
    "## This notebook shows how to fit a four image lens with (or without) substructure in the model"
   ]
  },
  {
   "cell_type": "code",
   "execution_count": 2,
   "metadata": {},
   "outputs": [],
   "source": [
    "from lenstronomywrapper.LensSystem.quad_lens import QuadLensSystem\n",
    "from lenstronomywrapper.LensSystem.BackgroundSource.quasar import Quasar\n",
    "\n",
    "from lenstronomywrapper.LensSystem.LensComponents.powerlawshear import PowerLawShear\n",
    "from lenstronomywrapper.LensSystem.macrolensmodel import MacroLensModel\n",
    "from lenstronomywrapper.LensData.lensed_quasar import LensedQuasar\n",
    "\n",
    "from lenstronomywrapper.Optimization.quad_optimization.hierarchical import HierarchicalOptimization\n",
    "from lenstronomywrapper.Optimization.quad_optimization.brute import BruteOptimization\n",
    "\n",
    "from pyHalo.pyhalo import pyHalo\n",
    "from copy import deepcopy\n",
    "import numpy as np\n",
    "import matplotlib.pyplot as plt"
   ]
  },
  {
   "cell_type": "markdown",
   "metadata": {},
   "source": [
    "### First we create a realization of dark matter halos using pyHalo (see the example notebook in the pyHalo package)"
   ]
  },
  {
   "cell_type": "code",
   "execution_count": 3,
   "metadata": {},
   "outputs": [],
   "source": [
    "zlens, zsource = 0.5, 1.5\n",
    "cone_opening_angle = 6.\n",
    "rendering_volume = 'DOUBLE_CONE' \n",
    "kwargs_halo_mass_function = {'geometry_type': rendering_volume}\n",
    "mass_definition = 'TNFW' \n",
    "log_mlow = 7. \n",
    "log_mhigh = 10 \n",
    "power_law_index = -1.9 \n",
    "LOS_norm = 1. \n",
    "sigma_sub = 0.02 \n",
    "r_tidal = '0.25Rs' \n",
    "log_m_host = 13.\n",
    "\n",
    "log_mass_sheet_min = 6\n",
    "log_mass_sheet_max = 10\n",
    "\n",
    "pyhalo = pyHalo(zlens, zsource, kwargs_halo_mass_function=kwargs_halo_mass_function)\n",
    "\n",
    "realization_kwargs = {'mass_func_type': 'POWER_LAW', 'log_mlow': log_mlow, 'log_mhigh': log_mhigh, \n",
    "                      'log_mass_sheet_min': log_mlow, 'log_mass_sheet_max': log_mhigh, \n",
    "                      'mdef_main': mass_definition,'mdef_los': mass_definition, 'sigma_sub': sigma_sub,\n",
    "                      'cone_opening_angle': cone_opening_angle, \n",
    "                      'log_m_host': log_m_host, 'power_law_index': power_law_index, 'r_tidal': r_tidal,\n",
    "                      'LOS_normalization': LOS_norm}\n",
    "\n",
    "realization_type = 'composite_powerlaw'\n",
    "astropy_instance = pyhalo.astropy_cosmo\n",
    "realization_init = pyhalo.render(realization_type, realization_kwargs, nrealizations=1)[0]\n",
    "lens_model_list, lens_redshift_array, kwargs_halos, _ = realization_init.lensing_quantities()"
   ]
  },
  {
   "cell_type": "markdown",
   "metadata": {},
   "source": [
    "### Now define a macromodel"
   ]
  },
  {
   "cell_type": "code",
   "execution_count": 10,
   "metadata": {},
   "outputs": [],
   "source": [
    "zlens, zsource = 0.5, 1.5\n",
    "kwargs_macromodel = [{'theta_E': 1., 'center_x': 0., 'center_y': -0.0, 'e1': 0.1, 'e2': 0.2, 'gamma': 2.0}, \n",
    "               {'gamma1': 0.04, 'gamma2': 0.07}]\n",
    "\n",
    "main_lens_fit = PowerLawShear(zlens, kwargs_macromodel)\n",
    "macromodel = MacroLensModel([main_lens_fit])\n",
    "\n",
    "source_size_parsec = 30. # FWHM of a Gaussian\n",
    "kwargs_source = {'center_x': 0., 'center_y': 0., 'source_fwhm_pc': source_size_parsec}\n",
    "background_source = Quasar(kwargs_source)"
   ]
  },
  {
   "cell_type": "markdown",
   "metadata": {},
   "source": [
    "### Now we can create a lens system"
   ]
  },
  {
   "cell_type": "code",
   "execution_count": 18,
   "metadata": {},
   "outputs": [],
   "source": [
    "lens_system = QuadLensSystem(macromodel, zsource, background_source, realization_init)\n",
    "# Can save it for later if you like\n",
    "# import dill\n",
    "# f = open('example_lens_system', 'wb')\n",
    "# dill.dump(lens_system, f)\n",
    "# f.close()"
   ]
  },
  {
   "cell_type": "markdown",
   "metadata": {},
   "source": [
    "### You can optionally use the class method shift_background_auto to align the halos with the path traversed by lensed light rays\n",
    "#### For more info on this, see the example notebook in pyHalo/lensed_images_with_shifted_background_halos"
   ]
  },
  {
   "cell_type": "code",
   "execution_count": 16,
   "metadata": {},
   "outputs": [
    {
     "name": "stdout",
     "output_type": "stream",
     "text": [
      "['EPL', 'SHEAR', 'TNFW', 'TNFW', 'TNFW', 'TNFW', 'TNFW', 'TNFW', 'TNFW', 'TNFW', 'TNFW', 'TNFW', 'TNFW', 'TNFW', 'TNFW', 'TNFW', 'TNFW', 'TNFW', 'TNFW', 'TNFW', 'TNFW', 'TNFW', 'TNFW', 'TNFW', 'TNFW', 'TNFW', 'TNFW', 'TNFW', 'TNFW', 'TNFW', 'TNFW', 'TNFW', 'TNFW', 'TNFW', 'TNFW', 'TNFW', 'TNFW', 'TNFW', 'TNFW', 'TNFW', 'TNFW', 'TNFW', 'TNFW', 'TNFW', 'TNFW', 'TNFW', 'TNFW', 'TNFW', 'TNFW', 'TNFW', 'TNFW', 'TNFW', 'TNFW', 'TNFW', 'TNFW', 'TNFW', 'TNFW', 'TNFW', 'TNFW', 'TNFW', 'TNFW', 'TNFW', 'TNFW', 'TNFW', 'TNFW', 'TNFW', 'TNFW', 'TNFW', 'TNFW', 'TNFW', 'TNFW', 'TNFW', 'TNFW', 'TNFW', 'TNFW', 'TNFW', 'TNFW', 'TNFW', 'TNFW', 'TNFW', 'TNFW', 'TNFW', 'TNFW', 'TNFW', 'TNFW', 'TNFW', 'TNFW', 'TNFW', 'TNFW', 'TNFW', 'TNFW', 'TNFW', 'TNFW', 'TNFW', 'TNFW', 'TNFW', 'TNFW', 'TNFW', 'TNFW', 'TNFW', 'TNFW', 'TNFW', 'TNFW', 'TNFW', 'TNFW', 'TNFW', 'TNFW', 'TNFW', 'TNFW', 'TNFW', 'TNFW', 'TNFW', 'TNFW', 'TNFW', 'TNFW', 'TNFW', 'TNFW', 'TNFW', 'TNFW', 'TNFW', 'TNFW', 'TNFW', 'TNFW', 'TNFW', 'TNFW', 'TNFW', 'TNFW', 'TNFW', 'TNFW', 'TNFW', 'TNFW', 'TNFW', 'TNFW', 'TNFW', 'TNFW', 'TNFW', 'TNFW', 'TNFW', 'TNFW', 'TNFW', 'TNFW', 'TNFW', 'TNFW', 'TNFW', 'TNFW', 'TNFW', 'TNFW', 'TNFW', 'TNFW', 'TNFW', 'TNFW', 'TNFW', 'TNFW', 'TNFW', 'TNFW', 'TNFW', 'TNFW', 'TNFW', 'TNFW', 'TNFW', 'TNFW', 'TNFW', 'TNFW', 'TNFW', 'TNFW', 'TNFW', 'TNFW', 'TNFW', 'TNFW', 'TNFW', 'TNFW', 'TNFW', 'TNFW', 'TNFW', 'TNFW', 'TNFW', 'TNFW', 'TNFW', 'TNFW', 'TNFW', 'TNFW', 'TNFW', 'TNFW', 'TNFW', 'TNFW', 'TNFW', 'TNFW', 'TNFW', 'TNFW', 'TNFW', 'TNFW', 'TNFW', 'TNFW', 'TNFW', 'TNFW', 'TNFW', 'TNFW', 'TNFW', 'TNFW', 'TNFW', 'TNFW', 'TNFW', 'TNFW', 'TNFW', 'TNFW', 'TNFW', 'TNFW', 'TNFW', 'TNFW', 'TNFW', 'TNFW', 'TNFW', 'TNFW', 'TNFW', 'TNFW', 'TNFW', 'TNFW', 'TNFW', 'TNFW', 'TNFW', 'TNFW', 'TNFW', 'TNFW', 'TNFW', 'TNFW', 'TNFW', 'TNFW', 'TNFW', 'TNFW', 'TNFW', 'TNFW', 'TNFW', 'TNFW', 'TNFW', 'TNFW', 'TNFW', 'TNFW', 'TNFW', 'TNFW', 'TNFW', 'TNFW', 'TNFW', 'TNFW', 'TNFW', 'TNFW', 'TNFW', 'TNFW', 'TNFW', 'TNFW', 'TNFW', 'TNFW', 'TNFW', 'TNFW', 'TNFW', 'TNFW', 'TNFW', 'TNFW', 'TNFW', 'TNFW', 'TNFW', 'TNFW', 'TNFW', 'TNFW', 'TNFW', 'TNFW', 'TNFW', 'TNFW', 'TNFW', 'TNFW', 'TNFW', 'TNFW', 'TNFW', 'TNFW', 'TNFW', 'TNFW', 'TNFW', 'TNFW', 'TNFW', 'TNFW', 'TNFW', 'TNFW', 'TNFW', 'TNFW', 'TNFW', 'TNFW', 'TNFW', 'TNFW', 'TNFW', 'TNFW', 'TNFW', 'TNFW', 'TNFW', 'TNFW', 'TNFW', 'TNFW', 'TNFW', 'TNFW', 'TNFW', 'TNFW', 'TNFW', 'TNFW', 'TNFW', 'TNFW', 'TNFW', 'TNFW', 'TNFW', 'TNFW', 'TNFW', 'TNFW', 'TNFW', 'TNFW', 'TNFW', 'TNFW', 'TNFW', 'TNFW', 'TNFW', 'TNFW', 'TNFW', 'TNFW', 'TNFW', 'TNFW', 'TNFW', 'TNFW', 'TNFW', 'TNFW', 'TNFW', 'TNFW', 'TNFW', 'TNFW', 'TNFW', 'TNFW', 'TNFW', 'TNFW', 'TNFW', 'TNFW', 'TNFW', 'TNFW', 'TNFW', 'TNFW', 'TNFW', 'TNFW', 'TNFW', 'TNFW', 'TNFW', 'TNFW', 'TNFW', 'TNFW', 'TNFW', 'TNFW', 'TNFW', 'TNFW', 'TNFW', 'TNFW', 'TNFW', 'TNFW', 'TNFW', 'TNFW', 'TNFW', 'TNFW', 'TNFW', 'TNFW', 'TNFW', 'TNFW', 'TNFW', 'TNFW', 'TNFW', 'TNFW', 'TNFW', 'TNFW', 'TNFW', 'TNFW', 'TNFW', 'TNFW', 'TNFW', 'TNFW', 'TNFW', 'TNFW', 'TNFW', 'TNFW', 'TNFW', 'TNFW', 'TNFW', 'TNFW', 'TNFW', 'TNFW', 'TNFW', 'TNFW', 'TNFW', 'TNFW', 'TNFW', 'TNFW', 'TNFW', 'TNFW', 'TNFW', 'TNFW', 'TNFW', 'TNFW', 'TNFW', 'TNFW', 'TNFW', 'TNFW', 'TNFW', 'TNFW', 'TNFW', 'TNFW', 'TNFW', 'TNFW', 'TNFW', 'TNFW', 'TNFW', 'TNFW', 'TNFW', 'TNFW', 'TNFW', 'TNFW', 'TNFW', 'TNFW', 'TNFW', 'TNFW', 'TNFW', 'TNFW', 'TNFW', 'TNFW', 'TNFW', 'TNFW', 'TNFW', 'TNFW', 'TNFW', 'TNFW', 'TNFW', 'TNFW', 'TNFW', 'TNFW', 'TNFW', 'TNFW', 'TNFW', 'TNFW', 'TNFW', 'TNFW', 'TNFW', 'TNFW', 'TNFW', 'TNFW', 'TNFW', 'TNFW', 'TNFW', 'TNFW', 'TNFW', 'TNFW', 'TNFW', 'TNFW', 'TNFW', 'TNFW', 'TNFW', 'TNFW', 'TNFW', 'TNFW', 'TNFW', 'TNFW', 'TNFW', 'TNFW', 'TNFW', 'TNFW', 'TNFW', 'TNFW', 'TNFW', 'TNFW', 'TNFW', 'TNFW', 'TNFW', 'TNFW', 'TNFW', 'TNFW', 'TNFW', 'TNFW', 'TNFW', 'TNFW', 'TNFW', 'TNFW', 'TNFW', 'TNFW', 'TNFW', 'TNFW', 'TNFW', 'TNFW', 'TNFW', 'TNFW', 'TNFW', 'TNFW', 'TNFW', 'TNFW', 'TNFW', 'TNFW', 'TNFW', 'TNFW', 'CNFW', 'CONVERGENCE', 'CONVERGENCE', 'CONVERGENCE', 'CONVERGENCE', 'CONVERGENCE', 'CONVERGENCE', 'CONVERGENCE', 'CONVERGENCE', 'CONVERGENCE', 'CONVERGENCE', 'CONVERGENCE', 'CONVERGENCE', 'CONVERGENCE', 'CONVERGENCE', 'CONVERGENCE', 'CONVERGENCE', 'CONVERGENCE', 'CONVERGENCE', 'CONVERGENCE', 'CONVERGENCE', 'CONVERGENCE', 'CONVERGENCE', 'CONVERGENCE', 'CONVERGENCE', 'CONVERGENCE', 'CONVERGENCE', 'CONVERGENCE', 'CONVERGENCE', 'CONVERGENCE', 'CONVERGENCE', 'CONVERGENCE', 'CONVERGENCE', 'CONVERGENCE', 'CONVERGENCE', 'CONVERGENCE', 'CONVERGENCE', 'CONVERGENCE']\n"
     ]
    }
   ],
   "source": [
    "# this is the data for HE0435\n",
    "x_image = np.array([ 1.272,  0.306, -1.152, -0.384]) \n",
    "y_image = np.array([ 0.156, -1.092, -0.636,  1.026])\n",
    "flux_ratios = np.array([[0.96,  0.976, 1., 0.65 ]])\n",
    "\n",
    "lens_data = LensedQuasar(x_image, y_image, flux_ratios)\n",
    "lens_system = QuadLensSystem.shift_background_auto(lens_data, macromodel, zsource, background_source, realization_init)\n",
    "\n",
    "lensmodel, kwargs_lens = lens_system.get_lensmodel()\n",
    "print(lensmodel.lens_model_list)"
   ]
  },
  {
   "cell_type": "code",
   "execution_count": 12,
   "metadata": {},
   "outputs": [],
   "source": []
  },
  {
   "cell_type": "code",
   "execution_count": null,
   "metadata": {},
   "outputs": [],
   "source": []
  }
 ],
 "metadata": {
  "kernelspec": {
   "display_name": "Python 3",
   "language": "python",
   "name": "python3"
  },
  "language_info": {
   "codemirror_mode": {
    "name": "ipython",
    "version": 3
   },
   "file_extension": ".py",
   "mimetype": "text/x-python",
   "name": "python",
   "nbconvert_exporter": "python",
   "pygments_lexer": "ipython3",
   "version": "3.6.5"
  }
 },
 "nbformat": 4,
 "nbformat_minor": 2
}
